{
  "nbformat": 4,
  "nbformat_minor": 0,
  "metadata": {
    "colab": {
      "name": "t2.ipynb",
      "private_outputs": true,
      "provenance": []
    },
    "kernelspec": {
      "name": "python3",
      "display_name": "Python 3"
    },
    "language_info": {
      "name": "python"
    }
  },
  "cells": [
    {
      "cell_type": "markdown",
      "metadata": {
        "id": "CoT7yPuLozHr"
      },
      "source": [
        "# Transforms"
      ]
    },
    {
      "cell_type": "markdown",
      "metadata": {
        "id": "zLV8IExro2Z2"
      },
      "source": [
        "Data does not always come in its final processed form, we us etransform to turn the data into a foprm suitable for processing. \n",
        "\n",
        "All Torch vision datasets have 2 parameters. - **Transform: to modify the features** and **target_transform: To transform the labels** \n",
        "\n",
        "The fashion Mnist features are in PIL format and the labels are integers. For training we need the features as normalized tensiors and the labels as one hot encoded tensors.\n",
        "\n",
        "\n",
        "To make these transformations we make use of *ToTensor* and *lamda* "
      ]
    },
    {
      "cell_type": "code",
      "metadata": {
        "id": "tDwCK9MSvCvB"
      },
      "source": [
        "from torchvision import datasets \n",
        "from torchvision.transforms import ToTensor, Lambda\n",
        "\n",
        "ds = datasets.FashionMNIST(\n",
        "    root=\"data\",\n",
        "    train=True,\n",
        "    download=True,\n",
        "    transform=ToTensor(),\n",
        "    target_transform=Lambda(lambda y: torch.zeros(10,dtype=torch.float).scatter_(0, torch.tensor(y), ))\n",
        ")"
      ],
      "execution_count": null,
      "outputs": []
    },
    {
      "cell_type": "markdown",
      "metadata": {
        "id": "jLp6ohYZxcuk"
      },
      "source": [
        "*To Tensor:* converts a PIL image or NumPy ndarray into a FloatTensor and scales the image's pixel intensity values in the range [0., 1.]"
      ]
    },
    {
      "cell_type": "markdown",
      "metadata": {
        "id": "R445sDf2xviY"
      },
      "source": [
        "*Lamda Transform:* Lambda transforms apply any user-defined lambda function. Here, we define a function to turn the integer into a one-hot encoded tensor. It first creates a zero tensor of size 10 (the number of labels in our dataset) and calls scatter which assigns a value=1 on the index as given by the label y.\n",
        "\n",
        "```\n",
        "# This is formatted as code\n",
        "```\n",
        "\n"
      ]
    },
    {
      "cell_type": "code",
      "metadata": {
        "id": "UEp4Io8Lx8Zt"
      },
      "source": [
        ""
      ],
      "execution_count": null,
      "outputs": []
    }
  ]
}