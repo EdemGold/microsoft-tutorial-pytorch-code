{
  "nbformat": 4,
  "nbformat_minor": 0,
  "metadata": {
    "colab": {
      "name": "t0.ipynb",
      "private_outputs": true,
      "provenance": []
    },
    "kernelspec": {
      "name": "python3",
      "display_name": "Python 3"
    },
    "language_info": {
      "name": "python"
    }
  },
  "cells": [
    {
      "cell_type": "code",
      "metadata": {
        "id": "yoRbOOIFupMm"
      },
      "source": [
        "import numpy as np\n",
        "import torch"
      ],
      "execution_count": null,
      "outputs": []
    },
    {
      "cell_type": "code",
      "metadata": {
        "id": "sGSFZ3msu2sc"
      },
      "source": [
        "data = [[1,2], [3,4]]"
      ],
      "execution_count": null,
      "outputs": []
    },
    {
      "cell_type": "markdown",
      "metadata": {
        "id": "nZkMu6-5vqO1"
      },
      "source": [
        "# Ways that Tensors can be initialized"
      ]
    },
    {
      "cell_type": "code",
      "metadata": {
        "id": "Og5ADtfju2w4"
      },
      "source": [
        "#using torch tensors\n",
        "x_data = torch.tensor(data)\n",
        "\n",
        "#using numpy array\n",
        "np_array = np.array(data)\n",
        "x_np = torch.from_numpy(np_array)\n",
        "\n",
        "#from another tensor\n",
        "x_another = torch.ones_like(x_data)#retains the properties of x_data\n",
        "print(f\"ones tensor: \\n {x_another}\\n\")\n",
        "\n",
        "x_rand = torch.rand_like(x_data, dtype=torch.float)#overrides argument tensor\n",
        "print(f\"X_rand: \\n{x_rand}\\n\")"
      ],
      "execution_count": null,
      "outputs": []
    },
    {
      "cell_type": "code",
      "metadata": {
        "id": "fDzYUvbuvI-X"
      },
      "source": [
        "#with random or constant values\n",
        "shape=(2,3)\n",
        "\n",
        "rand_tensor = torch.rand(shape)\n",
        "ones_tensor = torch.ones(shape)\n",
        "zeros_tensor = torch.zeros(shape)\n",
        "\n",
        "\n",
        "print(f\"Rand tensor: \\n{rand_tensor}\\n\")\n",
        "print(f\"ones_tensor: \\n{ones_tensor}\\n\")\n",
        "print(f\"zeros_tensor: \\n{zeros_tensor}\\n\")"
      ],
      "execution_count": null,
      "outputs": []
    },
    {
      "cell_type": "code",
      "metadata": {
        "id": "FZUqlVVWvJCr"
      },
      "source": [
        "tensor = torch.rand(1,2)\n",
        "ts = tensor.shape\n",
        "\n",
        "print(f\"Shape of a tensor: {tensor.shape}\")\n",
        "print(f\"Datatype of tensor: {tensor.dtype}\")\n",
        "print(f\"Device Tensor is stored on: {tensor.device}\")"
      ],
      "execution_count": null,
      "outputs": []
    },
    {
      "cell_type": "markdown",
      "metadata": {
        "id": "Kuw3dMub0YDQ"
      },
      "source": [
        "# Operations on tensors"
      ]
    },
    {
      "cell_type": "code",
      "metadata": {
        "id": "pNxqWPdUys_A"
      },
      "source": [
        "#standard numpy like indexing and slicing\n",
        "tensor = torch.ones(4,4)\n",
        "print('First row:', tensor[0])\n",
        "print('First column:', tensor[: , 0])\n",
        "print('Last Column:', tensor[..., -1])\n",
        "\n",
        "tensor[:,1] = 0 #replaces the 2nd column with zero \n",
        "print(tensor)\n"
      ],
      "execution_count": null,
      "outputs": []
    },
    {
      "cell_type": "code",
      "metadata": {
        "id": "HW9EeCqK1YxJ"
      },
      "source": [
        "#Joining tensors\n",
        "t1 = torch.cat([tensor, tensor, tensor], dim=1)\n",
        "print(t1)"
      ],
      "execution_count": null,
      "outputs": []
    },
    {
      "cell_type": "code",
      "metadata": {
        "id": "5_OnDAcT1Y1e"
      },
      "source": [
        "#Arithemetic Operations\n",
        "#This computes the matrix multiplication between two tensors, y1, y2, y3 will be computed together\n",
        "\n",
        "y1 = tensor @ tensor.T \n",
        "y2 = tensor.matmul(tensor.T)\n",
        "y3 = torch.rand_like(tensor)\n",
        "torch.matmul(tensor, tensor.T, out=y3)\n",
        "\n",
        "\n",
        "#This computes the element wise product\n",
        "z1 = tensor*tensor\n",
        "z2 = tensor.mul(tensor)\n",
        "\n",
        "z3 = torch.rand_like(tensor)\n",
        "torch.mul(tensor, tensor, out=z3)\n",
        "\n"
      ],
      "execution_count": null,
      "outputs": []
    },
    {
      "cell_type": "code",
      "metadata": {
        "id": "Q-kKfx0lytHs"
      },
      "source": [
        "#Single Element tensors\n",
        "# If you have a one element tensor, like for instance by aggregating all the elements in a tensor.\n",
        "\n",
        "agg = tensor.sum()\n",
        "\n",
        "agg_item = agg.item()\n",
        "print(agg_item, type(agg_item))"
      ],
      "execution_count": null,
      "outputs": []
    },
    {
      "cell_type": "code",
      "metadata": {
        "id": "bwEBZv4_ytOe"
      },
      "source": [
        "#In place operators\n",
        "print(tensor, \"\\n\")\n",
        "tensor.add_(5)\n",
        "print(tensor)"
      ],
      "execution_count": null,
      "outputs": []
    },
    {
      "cell_type": "code",
      "metadata": {
        "id": "NV2bMr57ytSS"
      },
      "source": [
        "#tensor to numpy array\n",
        "t = torch.ones(5)\n",
        "print(f\"t: {t}\")\n",
        "n = t.numpy()\n",
        "print(f\"n: {n}\")"
      ],
      "execution_count": null,
      "outputs": []
    },
    {
      "cell_type": "code",
      "metadata": {
        "id": "w5EK9tQ7ytVC"
      },
      "source": [
        "#A changen: in the tensor affects the numpy array\n",
        "t.add_(1)\n",
        "print(f\"t:{t}\")\n",
        "print(f\"n:{n}\")"
      ],
      "execution_count": null,
      "outputs": []
    },
    {
      "cell_type": "code",
      "metadata": {
        "id": "b_-nb9FrytXs"
      },
      "source": [
        "#numpy to tensor\n",
        "n = np.ones(5)\n",
        "t = torch.from_numpy(n)\n",
        "print(f\"t:{t}\")\n",
        "print(f\"n:{n}\")"
      ],
      "execution_count": null,
      "outputs": []
    },
    {
      "cell_type": "code",
      "metadata": {
        "id": "FHGvWmx5vJIp"
      },
      "source": [
        "#changes in the numpy array reflect in the tensor\n",
        "np.add(n, 1, out=n)\n",
        "print(f\"n:{n}\")\n",
        "print(f\"t:{t}\")"
      ],
      "execution_count": null,
      "outputs": []
    },
    {
      "cell_type": "code",
      "metadata": {
        "id": "m3kCufwF8KO5"
      },
      "source": [
        ""
      ],
      "execution_count": null,
      "outputs": []
    },
    {
      "cell_type": "code",
      "metadata": {
        "id": "8IF6Ze1L8KSM"
      },
      "source": [
        ""
      ],
      "execution_count": null,
      "outputs": []
    },
    {
      "cell_type": "code",
      "metadata": {
        "id": "13nnNGFh8KY7"
      },
      "source": [
        ""
      ],
      "execution_count": null,
      "outputs": []
    },
    {
      "cell_type": "code",
      "metadata": {
        "id": "7tRLn5jC8KdI"
      },
      "source": [
        ""
      ],
      "execution_count": null,
      "outputs": []
    },
    {
      "cell_type": "code",
      "metadata": {
        "id": "GOtwm1CpvJLd"
      },
      "source": [
        ""
      ],
      "execution_count": null,
      "outputs": []
    },
    {
      "cell_type": "code",
      "metadata": {
        "id": "NroCmPNTvJOl"
      },
      "source": [
        ""
      ],
      "execution_count": null,
      "outputs": []
    },
    {
      "cell_type": "code",
      "metadata": {
        "id": "76NW8oG3vJRU"
      },
      "source": [
        ""
      ],
      "execution_count": null,
      "outputs": []
    }
  ]
}